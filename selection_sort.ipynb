{
 "cells": [
  {
   "cell_type": "code",
   "execution_count": 13,
   "metadata": {},
   "outputs": [],
   "source": [
    "from Fonctions_graphiques import *"
   ]
  },
  {
   "cell_type": "markdown",
   "metadata": {},
   "source": [
    "\n",
    "## Tri par sélection\n",
    "\n",
    "### Meilleur Cas\n",
    "Le meilleur cas pour le tri par sélection se produit également lorsque le tableau est déjà trié dans l'ordre croissant. Cependant, contrairement au tri par insertion, le tri par sélection ne bénéficie pas de cette situation car il continue à effectuer des comparaisons pour chaque élément.\n",
    "\n",
    "**Complexité:** $O(n^2)$\n",
    "\n",
    "### Pire Cas\n",
    "Le pire cas pour le tri par sélection se produit lorsque le tableau est trié dans l'ordre décroissant. Comme pour le meilleur cas, le tri par sélection effectue le même nombre de comparaisons indépendamment de l'ordre initial des éléments.\n",
    "\n",
    "**Complexité:** $O(n^2)$\n",
    "\n",
    "### Cas Moyen\n",
    "Le cas moyen pour le tri par sélection se produit lorsque les éléments du tableau sont dans un ordre aléatoire. Le nombre de comparaisons reste le même, car chaque élément est comparé avec tous les autres éléments restants.\n",
    "\n",
    "**Complexité:** $O(n^2)$\n",
    "\n",
    "### Comparaison avec le tri par insertion\n",
    "- **Meilleur Cas:** Le tri par insertion est plus efficace ($O(n)$) que le tri par sélection ($O(n^2)$) lorsque le tableau est déjà trié.\n",
    "- **Pire Cas:** Les deux algorithmes ont une complexité quadratique ($O(n^2)$) dans le pire cas.\n",
    "- **Cas Moyen:** Les deux algorithmes ont également une complexité quadratique ($O(n^2)$) en moyenne.\n",
    "\n",
    "En résumé, le tri par insertion peut être plus performant que le tri par sélection dans des situations où le tableau est déjà partiellement trié, mais dans le pire et le cas moyen, les deux algorithmes ont des performances similaires."
   ]
  },
  {
   "cell_type": "code",
   "execution_count": 14,
   "metadata": {},
   "outputs": [
    {
     "ename": "NameError",
     "evalue": "name 'selection_sort' is not defined",
     "output_type": "error",
     "traceback": [
      "\u001b[1;31m---------------------------------------------------------------------------\u001b[0m",
      "\u001b[1;31mNameError\u001b[0m                                 Traceback (most recent call last)",
      "Cell \u001b[1;32mIn[14], line 1\u001b[0m\n\u001b[1;32m----> 1\u001b[0m executerTriConcurrence([\u001b[43mselection_sort\u001b[49m,insertion_sort], [\u001b[38;5;124m'\u001b[39m\u001b[38;5;124mselection\u001b[39m\u001b[38;5;124m'\u001b[39m,\u001b[38;5;124m'\u001b[39m\u001b[38;5;124minsertion\u001b[39m\u001b[38;5;124m'\u001b[39m], [\u001b[38;5;124m'\u001b[39m\u001b[38;5;124mr\u001b[39m\u001b[38;5;124m'\u001b[39m, \u001b[38;5;124m'\u001b[39m\u001b[38;5;124my\u001b[39m\u001b[38;5;124m'\u001b[39m, \u001b[38;5;124m'\u001b[39m\u001b[38;5;124mg\u001b[39m\u001b[38;5;124m'\u001b[39m, \u001b[38;5;124m'\u001b[39m\u001b[38;5;124mb\u001b[39m\u001b[38;5;124m'\u001b[39m], nlist\u001b[38;5;241m=\u001b[39m\u001b[38;5;241m15\u001b[39m, nval\u001b[38;5;241m=\u001b[39m\u001b[38;5;241m200\u001b[39m, surplace\u001b[38;5;241m=\u001b[39m\u001b[38;5;28;01mTrue\u001b[39;00m, liste\u001b[38;5;241m=\u001b[39m[\u001b[38;5;124m'\u001b[39m\u001b[38;5;124mrandom\u001b[39m\u001b[38;5;124m'\u001b[39m, \u001b[38;5;124m'\u001b[39m\u001b[38;5;124minverted\u001b[39m\u001b[38;5;124m'\u001b[39m, \u001b[38;5;124m'\u001b[39m\u001b[38;5;124mpartial\u001b[39m\u001b[38;5;124m'\u001b[39m])\n",
      "\u001b[1;31mNameError\u001b[0m: name 'selection_sort' is not defined"
     ]
    }
   ],
   "source": [
    "executerTriConcurrence([selection_sort,insertion_sort], ['selection','insertion'], ['r', 'y', 'g', 'b'], nlist=15, nval=200, surplace=True, liste=['random', 'inverted', 'partial'])"
   ]
  }
 ],
 "metadata": {
  "kernelspec": {
   "display_name": "Python 3",
   "language": "python",
   "name": "python3"
  },
  "language_info": {
   "codemirror_mode": {
    "name": "ipython",
    "version": 3
   },
   "file_extension": ".py",
   "mimetype": "text/x-python",
   "name": "python",
   "nbconvert_exporter": "python",
   "pygments_lexer": "ipython3",
   "version": "3.12.6"
  }
 },
 "nbformat": 4,
 "nbformat_minor": 2
}
